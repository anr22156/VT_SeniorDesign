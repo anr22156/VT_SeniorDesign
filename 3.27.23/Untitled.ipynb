{
 "cells": [
  {
   "cell_type": "code",
   "execution_count": 2,
   "id": "a68f1f5f",
   "metadata": {},
   "outputs": [
    {
     "name": "stdout",
     "output_type": "stream",
     "text": [
      "Collecting pymongo\n",
      "  Using cached pymongo-4.3.3-cp39-cp39-win_amd64.whl (382 kB)\n",
      "Collecting dnspython<3.0.0,>=1.16.0\n",
      "  Using cached dnspython-2.3.0-py3-none-any.whl (283 kB)\n",
      "Installing collected packages: dnspython, pymongo\n",
      "Successfully installed dnspython-2.3.0 pymongo-4.3.3\n",
      "Note: you may need to restart the kernel to use updated packages.\n"
     ]
    }
   ],
   "source": [
    "pip install pymongo"
   ]
  },
  {
   "cell_type": "code",
   "execution_count": 4,
   "id": "1f86aa0f",
   "metadata": {},
   "outputs": [
    {
     "name": "stdout",
     "output_type": "stream",
     "text": [
      "Collecting serial\n",
      "  Using cached serial-0.0.97-py2.py3-none-any.whl (40 kB)\n",
      "Requirement already satisfied: future>=0.17.1 in c:\\users\\nitar\\anaconda3\\lib\\site-packages (from serial) (0.18.2)\n",
      "Requirement already satisfied: pyyaml>=3.13 in c:\\users\\nitar\\anaconda3\\lib\\site-packages (from serial) (6.0)\n",
      "Collecting iso8601>=0.1.12\n",
      "  Using cached iso8601-1.1.0-py3-none-any.whl (9.9 kB)\n",
      "Installing collected packages: iso8601, serial\n",
      "Successfully installed iso8601-1.1.0 serial-0.0.97\n",
      "Note: you may need to restart the kernel to use updated packages.\n"
     ]
    }
   ],
   "source": [
    "pip install serial"
   ]
  },
  {
   "cell_type": "code",
   "execution_count": 20,
   "id": "36828011",
   "metadata": {},
   "outputs": [
    {
     "name": "stdout",
     "output_type": "stream",
     "text": [
      "Collecting heartpy\n",
      "  Using cached heartpy-1.2.7-py3-none-any.whl (1.0 MB)\n",
      "Requirement already satisfied: scipy in c:\\users\\nitar\\anaconda3\\lib\\site-packages (from heartpy) (1.9.1)\n",
      "Requirement already satisfied: numpy>=1.17 in c:\\users\\nitar\\anaconda3\\lib\\site-packages (from heartpy) (1.21.5)\n",
      "Requirement already satisfied: matplotlib in c:\\users\\nitar\\anaconda3\\lib\\site-packages (from heartpy) (3.5.2)\n",
      "Requirement already satisfied: pyparsing>=2.2.1 in c:\\users\\nitar\\anaconda3\\lib\\site-packages (from matplotlib->heartpy) (3.0.9)\n",
      "Requirement already satisfied: pillow>=6.2.0 in c:\\users\\nitar\\anaconda3\\lib\\site-packages (from matplotlib->heartpy) (9.2.0)\n",
      "Requirement already satisfied: packaging>=20.0 in c:\\users\\nitar\\anaconda3\\lib\\site-packages (from matplotlib->heartpy) (21.3)\n",
      "Requirement already satisfied: kiwisolver>=1.0.1 in c:\\users\\nitar\\anaconda3\\lib\\site-packages (from matplotlib->heartpy) (1.4.2)\n",
      "Requirement already satisfied: python-dateutil>=2.7 in c:\\users\\nitar\\anaconda3\\lib\\site-packages (from matplotlib->heartpy) (2.8.2)\n",
      "Requirement already satisfied: fonttools>=4.22.0 in c:\\users\\nitar\\anaconda3\\lib\\site-packages (from matplotlib->heartpy) (4.25.0)\n",
      "Requirement already satisfied: cycler>=0.10 in c:\\users\\nitar\\anaconda3\\lib\\site-packages (from matplotlib->heartpy) (0.11.0)\n",
      "Requirement already satisfied: six>=1.5 in c:\\users\\nitar\\anaconda3\\lib\\site-packages (from python-dateutil>=2.7->matplotlib->heartpy) (1.16.0)\n",
      "Installing collected packages: heartpy\n",
      "Successfully installed heartpy-1.2.7\n",
      "Note: you may need to restart the kernel to use updated packages.\n"
     ]
    }
   ],
   "source": [
    "pip install heartpy"
   ]
  },
  {
   "cell_type": "code",
   "execution_count": 24,
   "id": "6c3b713a",
   "metadata": {},
   "outputs": [],
   "source": [
    "import pymongo\n",
    "import pandas as pd\n",
    "import itertools\n",
    "import scipy\n",
    "import pymongo\n",
    "import argparse\n",
    "import matplotlib\n",
    "matplotlib.use('tkagg')\n",
    "\n",
    "import config\n",
    "from container import Container\n",
    "from DataSource import DataSource\n",
    "\n",
    "import preprocessing_methods1\n",
    "\n",
    "client = pymongo.MongoClient(\"mongodb://localhost:27017/\")\n",
    "db = client['PrenatalTracker']\n",
    "\n",
    "collections = db.list_collection_names()\n",
    "\n"
   ]
  },
  {
   "cell_type": "code",
   "execution_count": 25,
   "id": "d006351b",
   "metadata": {},
   "outputs": [],
   "source": [
    "import warnings\n",
    "warnings.filterwarnings('ignore')"
   ]
  },
  {
   "cell_type": "code",
   "execution_count": 26,
   "id": "a036c9e0",
   "metadata": {},
   "outputs": [],
   "source": [
    "def process_docs(collection_name):\n",
    "    \n",
    "    container = Container()\n",
    "    dataframe = container.prepared_data_provider().get(collection_name)\n",
    "\n",
    "    PPG_data = dataframe['PPG'].tolist()\n",
    "    ECG_data = dataframe['ECG'].tolist()\n",
    "    ABP_data = dataframe['BP'].tolist()\n",
    "    \n",
    "    ECG_features = preprocessing_methods1.ECGPreprocessing(ECG_data)\n",
    "    PPG_features, PPG_norm = preprocessing_methods1.PPGPreprocessing(PPG_data)\n",
    "    ABP_features = preprocessing_methods1.BPPreprocessing(ABP_data)\n",
    "\n",
    "    df_init = preprocessing_methods1.combine_data(ECG_features, PPG_features, ABP_features)\n",
    "    df = preprocessing_methods1.features(df_init,PPG_norm)\n",
    "    \n",
    "    return df\n"
   ]
  },
  {
   "cell_type": "code",
   "execution_count": 27,
   "id": "6bf01433",
   "metadata": {},
   "outputs": [
    {
     "ename": "IndexError",
     "evalue": "index -1 is out of bounds for axis 0 with size 0",
     "output_type": "error",
     "traceback": [
      "\u001b[1;31m---------------------------------------------------------------------------\u001b[0m",
      "\u001b[1;31mIndexError\u001b[0m                                Traceback (most recent call last)",
      "\u001b[1;32m~\\AppData\\Local\\Temp\\ipykernel_29172\\1572125201.py\u001b[0m in \u001b[0;36m<module>\u001b[1;34m\u001b[0m\n\u001b[0;32m      1\u001b[0m \u001b[0mdataframes\u001b[0m \u001b[1;33m=\u001b[0m \u001b[1;33m[\u001b[0m\u001b[1;33m]\u001b[0m\u001b[1;33m\u001b[0m\u001b[1;33m\u001b[0m\u001b[0m\n\u001b[0;32m      2\u001b[0m \u001b[1;32mfor\u001b[0m \u001b[0mcollection_name\u001b[0m \u001b[1;32min\u001b[0m \u001b[0mcollections\u001b[0m\u001b[1;33m:\u001b[0m\u001b[1;33m\u001b[0m\u001b[1;33m\u001b[0m\u001b[0m\n\u001b[1;32m----> 3\u001b[1;33m     \u001b[0mdataframes\u001b[0m\u001b[1;33m.\u001b[0m\u001b[0mappend\u001b[0m\u001b[1;33m(\u001b[0m\u001b[0mprocess_docs\u001b[0m\u001b[1;33m(\u001b[0m\u001b[0mcollection_name\u001b[0m\u001b[1;33m)\u001b[0m\u001b[1;33m)\u001b[0m\u001b[1;33m\u001b[0m\u001b[1;33m\u001b[0m\u001b[0m\n\u001b[0m\u001b[0;32m      4\u001b[0m \u001b[1;33m\u001b[0m\u001b[0m\n\u001b[0;32m      5\u001b[0m \u001b[1;33m\u001b[0m\u001b[0m\n",
      "\u001b[1;32m~\\AppData\\Local\\Temp\\ipykernel_29172\\688451546.py\u001b[0m in \u001b[0;36mprocess_docs\u001b[1;34m(collection_name)\u001b[0m\n\u001b[0;32m     10\u001b[0m \u001b[1;33m\u001b[0m\u001b[0m\n\u001b[0;32m     11\u001b[0m     \u001b[0mECG_features\u001b[0m \u001b[1;33m=\u001b[0m \u001b[0mpreprocessing_methods1\u001b[0m\u001b[1;33m.\u001b[0m\u001b[0mECGPreprocessing\u001b[0m\u001b[1;33m(\u001b[0m\u001b[0mECG_data\u001b[0m\u001b[1;33m)\u001b[0m\u001b[1;33m\u001b[0m\u001b[1;33m\u001b[0m\u001b[0m\n\u001b[1;32m---> 12\u001b[1;33m     \u001b[0mPPG_features\u001b[0m\u001b[1;33m,\u001b[0m \u001b[0mPPG_norm\u001b[0m \u001b[1;33m=\u001b[0m \u001b[0mpreprocessing_methods1\u001b[0m\u001b[1;33m.\u001b[0m\u001b[0mPPGPreprocessing\u001b[0m\u001b[1;33m(\u001b[0m\u001b[0mPPG_data\u001b[0m\u001b[1;33m)\u001b[0m\u001b[1;33m\u001b[0m\u001b[1;33m\u001b[0m\u001b[0m\n\u001b[0m\u001b[0;32m     13\u001b[0m     \u001b[0mABP_features\u001b[0m \u001b[1;33m=\u001b[0m \u001b[0mpreprocessing_methods1\u001b[0m\u001b[1;33m.\u001b[0m\u001b[0mBPPreprocessing\u001b[0m\u001b[1;33m(\u001b[0m\u001b[0mABP_data\u001b[0m\u001b[1;33m)\u001b[0m\u001b[1;33m\u001b[0m\u001b[1;33m\u001b[0m\u001b[0m\n\u001b[0;32m     14\u001b[0m \u001b[1;33m\u001b[0m\u001b[0m\n",
      "\u001b[1;32m~\\Desktop\\3.27.23\\preprocessing_methods1.py\u001b[0m in \u001b[0;36mPPGPreprocessing\u001b[1;34m(data)\u001b[0m\n\u001b[0;32m    114\u001b[0m             \u001b[1;32mif\u001b[0m \u001b[0mlen\u001b[0m\u001b[1;33m(\u001b[0m\u001b[0mptp\u001b[0m\u001b[1;33m)\u001b[0m \u001b[1;33m>\u001b[0m \u001b[1;36m20\u001b[0m\u001b[1;33m:\u001b[0m\u001b[1;33m\u001b[0m\u001b[1;33m\u001b[0m\u001b[0m\n\u001b[0;32m    115\u001b[0m                 \u001b[0mmins\u001b[0m \u001b[1;33m=\u001b[0m \u001b[0margrelextrema\u001b[0m\u001b[1;33m(\u001b[0m\u001b[0mptp\u001b[0m\u001b[1;33m,\u001b[0m \u001b[0mnp\u001b[0m\u001b[1;33m.\u001b[0m\u001b[0mless_equal\u001b[0m\u001b[1;33m)\u001b[0m\u001b[1;33m\u001b[0m\u001b[1;33m\u001b[0m\u001b[0m\n\u001b[1;32m--> 116\u001b[1;33m                 \u001b[1;32mif\u001b[0m \u001b[0mptp\u001b[0m\u001b[1;33m[\u001b[0m\u001b[0mmins\u001b[0m\u001b[1;33m[\u001b[0m\u001b[1;36m0\u001b[0m\u001b[1;33m]\u001b[0m\u001b[1;33m[\u001b[0m\u001b[1;33m-\u001b[0m\u001b[1;36m1\u001b[0m\u001b[1;33m]\u001b[0m\u001b[1;33m]\u001b[0m \u001b[1;33m!=\u001b[0m \u001b[1;36m0\u001b[0m\u001b[1;33m:\u001b[0m\u001b[1;33m\u001b[0m\u001b[1;33m\u001b[0m\u001b[0m\n\u001b[0m\u001b[0;32m    117\u001b[0m                     \u001b[0mdppg_valley_point_idx\u001b[0m\u001b[1;33m.\u001b[0m\u001b[0mappend\u001b[0m\u001b[1;33m(\u001b[0m\u001b[0mmins\u001b[0m\u001b[1;33m[\u001b[0m\u001b[1;36m0\u001b[0m\u001b[1;33m]\u001b[0m\u001b[1;33m[\u001b[0m\u001b[1;33m-\u001b[0m\u001b[1;36m1\u001b[0m\u001b[1;33m]\u001b[0m \u001b[1;33m+\u001b[0m \u001b[0mp1\u001b[0m\u001b[1;33m)\u001b[0m\u001b[1;33m\u001b[0m\u001b[1;33m\u001b[0m\u001b[0m\n\u001b[0;32m    118\u001b[0m                     \u001b[0mdppg_valley_point\u001b[0m\u001b[1;33m.\u001b[0m\u001b[0mappend\u001b[0m\u001b[1;33m(\u001b[0m\u001b[0mptp\u001b[0m\u001b[1;33m[\u001b[0m\u001b[0mmins\u001b[0m\u001b[1;33m[\u001b[0m\u001b[1;36m0\u001b[0m\u001b[1;33m]\u001b[0m\u001b[1;33m[\u001b[0m\u001b[1;33m-\u001b[0m\u001b[1;36m1\u001b[0m\u001b[1;33m]\u001b[0m\u001b[1;33m]\u001b[0m\u001b[1;33m)\u001b[0m\u001b[1;33m\u001b[0m\u001b[1;33m\u001b[0m\u001b[0m\n",
      "\u001b[1;31mIndexError\u001b[0m: index -1 is out of bounds for axis 0 with size 0"
     ]
    }
   ],
   "source": [
    "dataframes = []\n",
    "for collection_name in collections:\n",
    "    dataframes.append(process_docs(collection_name))\n",
    "    \n",
    "\n",
    "combined_df = pd.concat(dataframes, ignore_index=True)"
   ]
  },
  {
   "cell_type": "code",
   "execution_count": 28,
   "id": "f837cda1",
   "metadata": {},
   "outputs": [
    {
     "data": {
      "text/plain": [
       "'rec_134_T'"
      ]
     },
     "execution_count": 28,
     "metadata": {},
     "output_type": "execute_result"
    }
   ],
   "source": [
    "collection_name"
   ]
  }
 ],
 "metadata": {
  "kernelspec": {
   "display_name": "Python 3 (ipykernel)",
   "language": "python",
   "name": "python3"
  },
  "language_info": {
   "codemirror_mode": {
    "name": "ipython",
    "version": 3
   },
   "file_extension": ".py",
   "mimetype": "text/x-python",
   "name": "python",
   "nbconvert_exporter": "python",
   "pygments_lexer": "ipython3",
   "version": "3.9.13"
  }
 },
 "nbformat": 4,
 "nbformat_minor": 5
}
