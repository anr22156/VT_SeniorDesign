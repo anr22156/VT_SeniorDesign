{
 "cells": [
  {
   "cell_type": "code",
   "execution_count": 21,
   "id": "6c3b713a",
   "metadata": {},
   "outputs": [],
   "source": [
    "import pymongo\n",
    "import pandas as pd\n",
    "import itertools\n",
    "import scipy\n",
    "import pymongo\n",
    "import argparse\n",
    "import matplotlib\n",
    "matplotlib.use('tkagg')\n",
    "\n",
    "import config\n",
    "from container import Container\n",
    "from DataSource import DataSource\n",
    "\n",
    "import preprocessing_methods1\n",
    "\n",
    "import warnings\n",
    "warnings.filterwarnings('ignore')\n",
    "\n",
    "client = pymongo.MongoClient(\"mongodb://localhost:27017/\")\n",
    "db = client['PrenatalTracker']\n",
    "\n"
   ]
  },
  {
   "cell_type": "code",
   "execution_count": 30,
   "id": "4c8e3e67",
   "metadata": {},
   "outputs": [],
   "source": [
    "container = Container()\n",
    "dataframe = container.prepared_data_provider().get('rec_134_T')\n",
    "\n",
    "PPG_data = dataframe['PPG'].tolist()\n",
    "ECG_data = dataframe['ECG'].tolist()\n",
    "ABP_data = dataframe['BP'].tolist()"
   ]
  },
  {
   "cell_type": "code",
   "execution_count": 31,
   "id": "8bc76350",
   "metadata": {},
   "outputs": [],
   "source": [
    "import numpy as np\n",
    "import heartpy as hp\n",
    "from scipy.signal import find_peaks, argrelextrema\n",
    "from sklearn.preprocessing import minmax_scale\n",
    "    \n",
    "PPG_norm = minmax_scale(PPG_data,feature_range=(0, 1))\n",
    "    \n",
    " # 1st derivative\n",
    "PPG_d = np.gradient(PPG_norm)\n",
    "# 2nd derivative\n",
    "PPG_sd = np.gradient(PPG_d)\n",
    "    \n",
    "    # running the PPG peak detection analysis \n",
    "wd1, m1 = hp.process(PPG_norm, sample_rate = 125)\n",
    "wd_d1, m_d1 = hp.process(PPG_d, sample_rate = 125)\n",
    "wd_sd1, m_sd1 = hp.process(PPG_sd, sample_rate = 125)\n",
    "    \n",
    "    # (a) systolic peaks\n",
    "systolic_peak_idx = wd1['peaklist'] # array of peak indices\n",
    "systolic_peak = wd1['ybeat'] # array of peak values\n",
    "    \n",
    "    # (b1) valley points for PPG\n",
    "ppg_valley_point_idx = [] # array of valley point indices\n",
    "ppg_valley_point = [] # array of valley point values\n",
    "for i in range(len(systolic_peak)-1):\n",
    "    if i == 0:\n",
    "        p1 = 0 # beginning of data\n",
    "        p2 = systolic_peak_idx[i] # index of 1st peak\n",
    "        ptp = PPG_norm[p1:p2]\n",
    "        min_val = min(ptp)\n",
    "        ppg_valley_point.append(min_val)\n",
    "        min_idx = np.where(ptp == min_val)\n",
    "        ppg_valley_point_idx.append(min_idx[0][0].tolist()) \n",
    "    else: \n",
    "        p1 = systolic_peak_idx[i-1] # index of 1st peak\n",
    "        p2 = systolic_peak_idx[i] # index of 2nd peak\n",
    "        ptp = PPG_norm[p1:p2]\n",
    "        min_val = min(ptp)\n",
    "        ppg_valley_point.append(min_val)\n",
    "        min_idx = np.where(ptp == min_val) + p1\n",
    "        ppg_valley_point_idx.append(min_idx[0][0].tolist())\n",
    "            \n",
    "    # (b2) valley points and lowest points for dPPG\n",
    "dppg_peak_idx = wd_d1['peaklist']\n",
    "dppg_peak = wd_d1['ybeat']\n",
    "dppg_valley_point_idx = [] # array of valley point indices\n",
    "dppg_valley_point = [] # array of valley point values\n",
    "dDA_point_idx = [] # array of lowest point indices\n",
    "dDA_point = [] # array of lowest point value\n",
    "\n",
    "    # valley points\n",
    "for i in range(len(dppg_peak_idx)-1):\n",
    "    if i == 0:\n",
    "        p1 = 0 # beginning of data\n",
    "        p2 = dppg_peak_idx[i] # index of 2nd peak\n",
    "        ptp = PPG_d[p1:p2]\n",
    "        mins = argrelextrema(ptp, np.less_equal)\n",
    "        dppg_valley_point_idx.append(mins[0][-1])\n",
    "        dppg_valley_point.append(ptp[mins[0][-1]])\n",
    "    else:\n",
    "        p1 = dppg_peak_idx[i-1] # index of 1st peak\n",
    "        p2 = dppg_peak_idx[i] # index of 2nd peak\n",
    "        ptp = PPG_d[p1:p2]\n",
    "        if len(ptp) > 20:\n",
    "            mins = argrelextrema(ptp, np.less_equal)\n",
    "            if ptp[mins[0][-1]] != 0:\n",
    "                    dppg_valley_point_idx.append(mins[0][-1] + p1)\n",
    "                    dppg_valley_point.append(ptp[mins[0][-1]])\n",
    "            \n",
    "    # lowest points\n",
    "for i in range(len(dppg_peak_idx)-1):\n",
    "    if i == 0:\n",
    "        p1 = 0 # beginning of data\n",
    "        p2 = dppg_peak_idx[i] # index of 2nd peak\n",
    "        ptp = PPG_d[p1:p2]\n",
    "        min_val = min(ptp)\n",
    "        dDA_point.append(min_val)\n",
    "        min_idx = np.where(ptp == min_val)\n",
    "        dDA_point_idx.append(min_idx[0][0].tolist())\n",
    "    else:\n",
    "        p1 = dppg_peak_idx[i-1] # index of 1st peak\n",
    "        p2 = dppg_peak_idx[i] # index of 2nd peak\n",
    "        ptp = PPG_d[p1:p2]\n",
    "        min_val = min(ptp)\n",
    "        dDA_point.append(min_val)\n",
    "        min_idx = np.where(ptp == min_val) + p1\n",
    "        dDA_point_idx.append(min_idx[0][0].tolist())\n",
    "            \n",
    "   "
   ]
  },
  {
   "cell_type": "code",
   "execution_count": 32,
   "id": "f359b923",
   "metadata": {},
   "outputs": [
    {
     "data": {
      "text/plain": [
       "-0.014842089280291515"
      ]
     },
     "execution_count": 32,
     "metadata": {},
     "output_type": "execute_result"
    }
   ],
   "source": [
    "ptp[mins[0][-1]]"
   ]
  },
  {
   "cell_type": "code",
   "execution_count": 33,
   "id": "d884f3f6",
   "metadata": {},
   "outputs": [
    {
     "data": {
      "text/plain": [
       "58"
      ]
     },
     "execution_count": 33,
     "metadata": {},
     "output_type": "execute_result"
    }
   ],
   "source": [
    "mins[0][-1]"
   ]
  },
  {
   "cell_type": "code",
   "execution_count": 28,
   "id": "3d1b30d4",
   "metadata": {},
   "outputs": [],
   "source": [
    "def process_docs(collection_name):\n",
    "    \n",
    "    container = Container()\n",
    "    dataframe = container.prepared_data_provider().get(collection_name)\n",
    "\n",
    "    PPG_data = dataframe['PPG'].tolist()\n",
    "    ECG_data = dataframe['ECG'].tolist()\n",
    "    ABP_data = dataframe['BP'].tolist()\n",
    "    \n",
    "    ECG_features = preprocessing_methods1.ECGPreprocessing(ECG_data)\n",
    "    PPG_features, PPG_norm = preprocessing_methods1.PPGPreprocessing(PPG_data)\n",
    "    ABP_features = preprocessing_methods1.BPPreprocessing(ABP_data)\n",
    "\n",
    "    df_init = preprocessing_methods1.combine_data(ECG_features, PPG_features, ABP_features)\n",
    "    df = preprocessing_methods1.features(df_init,PPG_norm)\n",
    "    \n",
    "    return df\n"
   ]
  },
  {
   "cell_type": "code",
   "execution_count": 29,
   "id": "204a839f",
   "metadata": {},
   "outputs": [
    {
     "ename": "IndexError",
     "evalue": "index -1 is out of bounds for axis 0 with size 0",
     "output_type": "error",
     "traceback": [
      "\u001b[1;31m---------------------------------------------------------------------------\u001b[0m",
      "\u001b[1;31mIndexError\u001b[0m                                Traceback (most recent call last)",
      "\u001b[1;32m~\\AppData\\Local\\Temp\\ipykernel_33688\\264616861.py\u001b[0m in \u001b[0;36m<module>\u001b[1;34m\u001b[0m\n\u001b[1;32m----> 1\u001b[1;33m \u001b[0mprocess_docs\u001b[0m\u001b[1;33m(\u001b[0m\u001b[1;34m'rec_134_T'\u001b[0m\u001b[1;33m)\u001b[0m\u001b[1;33m\u001b[0m\u001b[1;33m\u001b[0m\u001b[0m\n\u001b[0m",
      "\u001b[1;32m~\\AppData\\Local\\Temp\\ipykernel_33688\\1404635882.py\u001b[0m in \u001b[0;36mprocess_docs\u001b[1;34m(collection_name)\u001b[0m\n\u001b[0;32m      9\u001b[0m \u001b[1;33m\u001b[0m\u001b[0m\n\u001b[0;32m     10\u001b[0m     \u001b[0mECG_features\u001b[0m \u001b[1;33m=\u001b[0m \u001b[0mpreprocessing_methods1\u001b[0m\u001b[1;33m.\u001b[0m\u001b[0mECGPreprocessing\u001b[0m\u001b[1;33m(\u001b[0m\u001b[0mECG_data\u001b[0m\u001b[1;33m)\u001b[0m\u001b[1;33m\u001b[0m\u001b[1;33m\u001b[0m\u001b[0m\n\u001b[1;32m---> 11\u001b[1;33m     \u001b[0mPPG_features\u001b[0m\u001b[1;33m,\u001b[0m \u001b[0mPPG_norm\u001b[0m \u001b[1;33m=\u001b[0m \u001b[0mpreprocessing_methods1\u001b[0m\u001b[1;33m.\u001b[0m\u001b[0mPPGPreprocessing\u001b[0m\u001b[1;33m(\u001b[0m\u001b[0mPPG_data\u001b[0m\u001b[1;33m)\u001b[0m\u001b[1;33m\u001b[0m\u001b[1;33m\u001b[0m\u001b[0m\n\u001b[0m\u001b[0;32m     12\u001b[0m     \u001b[0mABP_features\u001b[0m \u001b[1;33m=\u001b[0m \u001b[0mpreprocessing_methods1\u001b[0m\u001b[1;33m.\u001b[0m\u001b[0mBPPreprocessing\u001b[0m\u001b[1;33m(\u001b[0m\u001b[0mABP_data\u001b[0m\u001b[1;33m)\u001b[0m\u001b[1;33m\u001b[0m\u001b[1;33m\u001b[0m\u001b[0m\n\u001b[0;32m     13\u001b[0m \u001b[1;33m\u001b[0m\u001b[0m\n",
      "\u001b[1;32m~\\Desktop\\3.27.23\\preprocessing_methods1.py\u001b[0m in \u001b[0;36mPPGPreprocessing\u001b[1;34m(data)\u001b[0m\n\u001b[0;32m    115\u001b[0m                 \u001b[0mmins\u001b[0m \u001b[1;33m=\u001b[0m \u001b[0margrelextrema\u001b[0m\u001b[1;33m(\u001b[0m\u001b[0mptp\u001b[0m\u001b[1;33m,\u001b[0m \u001b[0mnp\u001b[0m\u001b[1;33m.\u001b[0m\u001b[0mless_equal\u001b[0m\u001b[1;33m)\u001b[0m\u001b[1;33m\u001b[0m\u001b[1;33m\u001b[0m\u001b[0m\n\u001b[0;32m    116\u001b[0m                 \u001b[1;32mif\u001b[0m \u001b[0mptp\u001b[0m\u001b[1;33m[\u001b[0m\u001b[0mmins\u001b[0m\u001b[1;33m[\u001b[0m\u001b[1;36m0\u001b[0m\u001b[1;33m]\u001b[0m\u001b[1;33m[\u001b[0m\u001b[1;33m-\u001b[0m\u001b[1;36m1\u001b[0m\u001b[1;33m]\u001b[0m\u001b[1;33m]\u001b[0m \u001b[1;33m!=\u001b[0m \u001b[1;36m0\u001b[0m\u001b[1;33m:\u001b[0m\u001b[1;33m\u001b[0m\u001b[1;33m\u001b[0m\u001b[0m\n\u001b[1;32m--> 117\u001b[1;33m                     \u001b[0mdppg_valley_point_idx\u001b[0m\u001b[1;33m.\u001b[0m\u001b[0mappend\u001b[0m\u001b[1;33m(\u001b[0m\u001b[0mmins\u001b[0m\u001b[1;33m[\u001b[0m\u001b[1;36m0\u001b[0m\u001b[1;33m]\u001b[0m\u001b[1;33m[\u001b[0m\u001b[1;33m-\u001b[0m\u001b[1;36m1\u001b[0m\u001b[1;33m]\u001b[0m \u001b[1;33m+\u001b[0m \u001b[0mp1\u001b[0m\u001b[1;33m)\u001b[0m\u001b[1;33m\u001b[0m\u001b[1;33m\u001b[0m\u001b[0m\n\u001b[0m\u001b[0;32m    118\u001b[0m                     \u001b[0mdppg_valley_point\u001b[0m\u001b[1;33m.\u001b[0m\u001b[0mappend\u001b[0m\u001b[1;33m(\u001b[0m\u001b[0mptp\u001b[0m\u001b[1;33m[\u001b[0m\u001b[0mmins\u001b[0m\u001b[1;33m[\u001b[0m\u001b[1;36m0\u001b[0m\u001b[1;33m]\u001b[0m\u001b[1;33m[\u001b[0m\u001b[1;33m-\u001b[0m\u001b[1;36m1\u001b[0m\u001b[1;33m]\u001b[0m\u001b[1;33m]\u001b[0m\u001b[1;33m)\u001b[0m\u001b[1;33m\u001b[0m\u001b[1;33m\u001b[0m\u001b[0m\n\u001b[0;32m    119\u001b[0m \u001b[1;33m\u001b[0m\u001b[0m\n",
      "\u001b[1;31mIndexError\u001b[0m: index -1 is out of bounds for axis 0 with size 0"
     ]
    }
   ],
   "source": [
    "process_docs('rec_134_T')"
   ]
  },
  {
   "cell_type": "code",
   "execution_count": null,
   "id": "f7d553f1",
   "metadata": {},
   "outputs": [],
   "source": [
    " # (b3) valley points and lowest points for sdPPG\n",
    "sdppg_peak_idx = wd_sd1['peaklist']\n",
    "sdppg_peak = wd_sd1['ybeat']\n",
    "sdppg_valley_point_idx = [] # array of valley point indices\n",
    "sdppg_valley_point = [] # array of valley point values\n",
    "sdDA_point_idx = [] # array of lowest point indices\n",
    "sdDA_point = [] # array of lowest point value\n",
    "\n",
    "    # valley points\n",
    "for i in range(len(sdppg_peak_idx)-1):\n",
    "    if i == 0:\n",
    "        p1 = 0 # beginning of data\n",
    "        p2 = sdppg_peak_idx[i] # index of 2nd peak\n",
    "        ptp = PPG_sd[p1:p2]\n",
    "        mins = argrelextrema(ptp, np.less_equal)\n",
    "        if mins == True:\n",
    "            sdppg_valley_point_idx.append(mins[0][-1])\n",
    "            sdppg_valley_point.append(ptp[mins[0][-1]])\n",
    "        else:\n",
    "            sdppg_valley_point_idx.append(np.nan)\n",
    "            sdppg_valley_point.append(np.nan)\n",
    "    else:\n",
    "        p1 = sdppg_peak_idx[i-1] # index of 1st peak\n",
    "        p2 = sdppg_peak_idx[i] # index of 2nd peak\n",
    "        ptp = PPG_sd[p1:p2]\n",
    "        if len(ptp) > 20:\n",
    "            mins = argrelextrema(ptp, np.less_equal)\n",
    "            if ptp[mins[0][-1]] != 0:\n",
    "                sdppg_valley_point_idx.append(mins[0][-1] + p1)\n",
    "                sdppg_valley_point.append(ptp[mins[0][-1]])\n",
    "            \n",
    "    # lowest points\n",
    "for i in range(len(sdppg_peak_idx)-1):\n",
    "    if i == 0:\n",
    "        p1 = 0 # beginning of data\n",
    "        p2 = sdppg_peak_idx[i] # index of 2nd peak\n",
    "        ptp = PPG_sd[p1:p2]\n",
    "        min_val = min(ptp)\n",
    "        sdDA_point.append(min_val)\n",
    "        min_idx = np.where(ptp == min_val)\n",
    "        sdDA_point_idx.append(min_idx[0][0].tolist())\n",
    "    else:\n",
    "        p1 = sdppg_peak_idx[i-1] # index of 1st peak\n",
    "        p2 = sdppg_peak_idx[i] # index of 2nd peak\n",
    "        ptp = PPG_sd[p1:p2]\n",
    "        min_val = min(ptp)\n",
    "        sdDA_point.append(min_val)\n",
    "        min_idx = np.where(ptp == min_val) + p1\n",
    "        sdDA_point_idx.append(min_idx[0][0].tolist())\n",
    "            \n",
    "     # (c) max/min slope values \n",
    "slopeval_ppg = [PPG_norm[i] for i in wd_d1['peaklist']]\n",
    "slopeval_ppg_idx = wd_d1['peaklist']\n",
    "slopeval_dppg = [PPG_d[i] for i in wd_sd1['peaklist']]\n",
    "slopeval_dppg_idx = wd_sd1['peaklist']\n",
    "    \n",
    "    # (d) dicrotic notch points\n",
    "dn = find_peaks(PPG_sd, distance=25)\n",
    "secondary_idx = [dn[0][index] for index in range(0, len(dn[0]), 2)]\n",
    "dicrotic_notch_idx = [item for item in secondary_idx if PPG_sd[item] <= 0.05]\n",
    "dicrotic_notch = [PPG_norm[i] for i in dicrotic_notch_idx]\n"
   ]
  }
 ],
 "metadata": {
  "kernelspec": {
   "display_name": "Python 3 (ipykernel)",
   "language": "python",
   "name": "python3"
  },
  "language_info": {
   "codemirror_mode": {
    "name": "ipython",
    "version": 3
   },
   "file_extension": ".py",
   "mimetype": "text/x-python",
   "name": "python",
   "nbconvert_exporter": "python",
   "pygments_lexer": "ipython3",
   "version": "3.9.13"
  }
 },
 "nbformat": 4,
 "nbformat_minor": 5
}
