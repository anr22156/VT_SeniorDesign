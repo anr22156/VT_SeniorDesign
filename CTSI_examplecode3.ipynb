{
 "cells": [
  {
   "cell_type": "markdown",
   "id": "fb2b8642-5db4-41e7-82e0-5947066df214",
   "metadata": {},
   "source": [
    "This file contains the third and final portion of the CTSI example code. It \n",
    "imports the dataframe created in the first file and runs machine learning \n",
    "classification algorithms to predict whether patients in the \n",
    "database are likely to develop an SUD (if any). \n",
    "6 different models are included in the analysis; the final output compares \n",
    "the training and testing accuracy and F1-score from all of the models.\n",
    "2 different analyses are run in this code; the first looks at each individual substance abuse diagnosis in order to predict which type a patient may develop and the second combines all of the diagnoses into one variable and looks only at the presence of an SUD."
   ]
  },
  {
   "cell_type": "code",
   "execution_count": 1,
   "id": "65604b7f-ba38-4364-bcb1-e38f72b46979",
   "metadata": {},
   "outputs": [],
   "source": [
    "#Import required libraries\n",
    "import pandas as pd\n",
    "import numpy as np\n",
    "import seaborn as sns\n",
    "import matplotlib.pyplot as plt\n",
    "\n",
    "from sklearn.model_selection import train_test_split\n",
    "from sklearn.model_selection import cross_val_score\n",
    "from sklearn.feature_selection import SelectKBest\n",
    "from sklearn.feature_selection import chi2\n",
    "from sklearn.feature_selection import mutual_info_classif\n",
    "from sklearn.linear_model import LogisticRegression\n",
    "from sklearn.svm import SVC\n",
    "from sklearn.naive_bayes import GaussianNB\n",
    "from sklearn.neighbors import KNeighborsClassifier\n",
    "from sklearn.tree import DecisionTreeClassifier\n",
    "from sklearn.ensemble import RandomForestClassifier\n",
    "from sklearn.metrics import accuracy_score\n",
    "from sklearn.metrics import classification_report\n",
    "from sklearn.metrics import f1_score\n",
    "from sklearn.metrics import  confusion_matrix\n",
    "from sklearn.metrics import  multilabel_confusion_matrix\n",
    "\n",
    "\n",
    "import warnings\n",
    "warnings.filterwarnings('ignore')"
   ]
  },
  {
   "cell_type": "markdown",
   "id": "3a9f4d87-bd24-48b7-89ae-ce3c0c34ca85",
   "metadata": {},
   "source": [
    "First Analysis: Separated SUDs"
   ]
  },
  {
   "cell_type": "code",
   "execution_count": 2,
   "id": "f0eb018c-0d7e-4f83-8af9-270cc31b328b",
   "metadata": {},
   "outputs": [],
   "source": [
    "# Import the dataframe\n",
    "df = pd.read_csv('df.csv')\n",
    "df.set_index('person_id',inplace=True)"
   ]
  },
  {
   "cell_type": "code",
   "execution_count": 3,
   "id": "be080540-9fe6-488d-83bf-c5fdfaedd28c",
   "metadata": {},
   "outputs": [
    {
     "name": "stdout",
     "output_type": "stream",
     "text": [
      "X_train shape: (5952, 49)\n",
      "X_test shape: (1488, 49)\n",
      "y_train shape: (5952, 6)\n",
      "y_test shape: (1488, 6)\n"
     ]
    }
   ],
   "source": [
    "# Divide the dataset into input and output variables\n",
    "output = ['alcohol_abuse','cocaine_abuse','hallucinogen_abuse','inhalant_abuse','opioid_abuse','sedative_abuse']\n",
    "X = df.drop(columns = output)\n",
    "y = df[output]\n",
    "\n",
    "# Split the data into training and testing set (80/20)\n",
    "X_train,X_test,y_train,y_test = train_test_split(X,y,test_size = 0.2,random_state = 42, shuffle=True)\n",
    "\n",
    "print('X_train shape:',X_train.shape)\n",
    "print('X_test shape:',X_test.shape)\n",
    "print('y_train shape:',y_train.shape)\n",
    "print('y_test shape:',y_test.shape)"
   ]
  },
  {
   "cell_type": "code",
   "execution_count": 4,
   "id": "c586e5cd-4e31-4b3c-b9c6-11bbf5fcf25b",
   "metadata": {
    "tags": []
   },
   "outputs": [
    {
     "name": "stdout",
     "output_type": "stream",
     "text": [
      "Feature 0: 44.932185 \t gender\n",
      "Feature 1: 11.394080 \t race\n",
      "Feature 2: 0.042790 \t ethnicity\n",
      "Feature 3: 2.317531 \t age\n",
      "Feature 4: 412.342626 \t ingredient\n",
      "Feature 5: 31.308406 \t Bipolar disorder, depressed\n",
      "Feature 6: 18.168670 \t Bipolar disorder, manic\n",
      "Feature 7: 6.712422 \t Bipolar disorder, mixed\n",
      "Feature 8: 5.802988 \t Bipolar disorder, unspecified\n",
      "Feature 9: 13.856961 \t Bipolar I disorder, unspecified\n",
      "Feature 10: 19.928900 \t Bipolar I disorder, depressed\n",
      "Feature 11: 13.804534 \t Bipolar I disorder, manic\n",
      "Feature 12: 5.459270 \t Bipolar I disorder, mixed\n",
      "Feature 13: 8.506881 \t Bipolar II disorder, unspecified\n",
      "Feature 14: 3.823099 \t Psychosis and severe depression co-occurrent\n",
      "Feature 15: 106.940653 \t Schizoaffective disorder\n",
      "Feature 16: 4.018703 \t Abnormal weight gain\n",
      "Feature 17: 3.627972 \t Abnormal weight loss\n",
      "Feature 18: 0.169019 \t Adult physical abuse, confirmed, initial encounter\n",
      "Feature 19: 39.592948 \t Alcohol abuse counseling and surveillance of alcoholic\n",
      "Feature 20: 0.169019 \t Anorexia\n",
      "Feature 21: 1.319472 \t Binge eating disorder\n",
      "Feature 22: 0.929603 \t Electroconvulsive therapy (ECT) provided (MDD)\n",
      "Feature 23: 68.255206 \t Encounter for general psychiatric examination, requested by authority\n",
      "Feature 24: 0.084509 \t Family history of alcohol abuse and dependence\n",
      "Feature 25: 0.084509 \t History of physical abuse\n",
      "Feature 26: 8.446920 \t Loss of weight\n",
      "Feature 27: nan \t Other personal history of psychological trauma, not elsewhere classified\n",
      "Feature 28: 27.621117 \t Personal history of alcoholism\n",
      "Feature 29: 8.098545 \t Personal history of nicotine dependence\n",
      "Feature 30: 5.707849 \t Personal history of other mental and behavioral disorders\n",
      "Feature 31: 4.856223 \t Personal history of tobacco use\n",
      "Feature 32: 113.905114 \t Suicide attempt, initial encounter\n",
      "Feature 33: 155.155789 \t Very low level of personal hygiene\n",
      "Feature 34: 1.183132 \t underweight (BMI < 19.9)\n",
      "Feature 35: 0.676075 \t healthy weight (20.0 < BMI < 24.9)\n",
      "Feature 36: 0.860149 \t overweight (25.0 < BMI < 29.9)\n",
      "Feature 37: 23.348181 \t obese (BMI > 30.0)\n",
      "Feature 38: 4.577956 \t Elevated blood pressure reading\n",
      "Feature 39: 28.889611 \t Encounter for screening examination for mental health and behavioral disorders\n",
      "Feature 40: 14.209004 \t Intentional self-harm\n",
      "Feature 41: 0.928557 \t Annual depression screening, 15 minutes\n",
      "Feature 42: 812.739703 \t Detoxification Services for Substance Abuse Treatment\n",
      "Feature 43: 0.970853 \t Electroconvulsive therapy\n",
      "Feature 44: 1.206467 \t Family psychotherapy\n",
      "Feature 45: 282.527359 \t Group psychotherapy\n",
      "Feature 46: 35.406806 \t Individual psychotherapy\n",
      "Feature 47: 197.927645 \t Group counseling for substance abuse treatment\n",
      "Feature 48: 0.084509 \t Health behavior intervention\n"
     ]
    },
    {
     "data": {
      "image/png": "[encoded data removed]",
      "text/plain": [
       "<Figure size 864x504 with 1 Axes>"
      ]
     },
     "metadata": {
      "needs_background": "light"
     },
     "output_type": "display_data"
    }
   ],
   "source": [
    "# Chi-squared Feature Selection\n",
    "def select_features(X_train, y_train, X_test):\n",
    "    fs = SelectKBest(score_func=chi2, k='all')\n",
    "    fs.fit(X_train, y_train)\n",
    "    X_train_fs = fs.transform(X_train)\n",
    "    X_test_fs = fs.transform(X_test)\n",
    "    return X_train_fs, X_test_fs, fs\n",
    "\n",
    "X_train_fs, X_test_fs, fs = select_features(X_train,y_train, X_test)\n",
    "columns = X.columns.values.tolist()\n",
    "for i in range(len(fs.scores_)):\n",
    "    print('Feature %d: %f' %(i, fs.scores_[i]),'\\t',columns[i])\n",
    "\n",
    "fig,ax = plt.subplots(figsize=(12,7))\n",
    "sns.barplot(x=[i for i in range(len(fs.scores_))],y=fs.scores_,palette='mako')\n",
    "plt.show()"
   ]
  },
  {
   "cell_type": "code",
   "execution_count": 5,
   "id": "fe95c0a9-ce71-4a84-a34d-8bc82c301091",
   "metadata": {},
   "outputs": [],
   "source": [
    "# Create dictionaries to store the results of the models\n",
    "result_dict_train = {}\n",
    "result_dict_test = {}\n",
    "result_dict_f1 = {}"
   ]
  },
  {
   "cell_type": "code",
   "execution_count": 6,
   "id": "7226cc99-b56b-49fb-b7cc-50f3f270e13b",
   "metadata": {},
   "outputs": [],
   "source": [
    "## MACHINE LEARNING ALGORITHMS"
   ]
  },
  {
   "cell_type": "code",
   "execution_count": 7,
   "id": "cdc2edfb-fbb9-4e85-9437-1695b4ffd7b1",
   "metadata": {},
   "outputs": [
    {
     "name": "stdout",
     "output_type": "stream",
     "text": [
      "Train Score: 0.9277546585384784\n",
      "Test Score: 0.9227150537634409\n",
      "\n",
      "Classification Report:\n",
      "                     precision    recall  f1-score   support\n",
      "\n",
      "     alcohol_abuse       0.00      0.00      0.00        70\n",
      "     cocaine_abuse       0.00      0.00      0.00        40\n",
      "hallucinogen_abuse       0.00      0.00      0.00         0\n",
      "    inhalant_abuse       0.00      0.00      0.00         0\n",
      "      opioid_abuse       0.00      0.00      0.00        16\n",
      "    sedative_abuse       0.00      0.00      0.00         2\n",
      "\n",
      "         micro avg       0.00      0.00      0.00       128\n",
      "         macro avg       0.00      0.00      0.00       128\n",
      "      weighted avg       0.00      0.00      0.00       128\n",
      "       samples avg       0.00      0.00      0.00       128\n",
      "\n",
      "Confusion Matrix for alcohol_abuse :\n",
      " [[1418    0]\n",
      " [  70    0]]\n",
      "Confusion Matrix for cocaine_abuse :\n",
      " [[1448    0]\n",
      " [  40    0]]\n",
      "Confusion Matrix for hallucinogen_abuse :\n",
      " [[1488    0]\n",
      " [   0    0]]\n",
      "Confusion Matrix for inhalant_abuse :\n",
      " [[1488    0]\n",
      " [   0    0]]\n",
      "Confusion Matrix for opioid_abuse :\n",
      " [[1472    0]\n",
      " [  16    0]]\n",
      "Confusion Matrix for sedative_abuse :\n",
      " [[1486    0]\n",
      " [   2    0]]\n"
     ]
    }
   ],
   "source": [
    "# K-Neighbor Classifier Algorithm\n",
    "knn = KNeighborsClassifier()\n",
    "accuracies = cross_val_score(knn, X_train_fs, y_train, cv=5)\n",
    "knn.fit(X_train_fs, y_train)\n",
    "y_pred = knn.predict(X_test_fs)\n",
    "\n",
    "\n",
    "#Evaluate model performance\n",
    "print('Train Score:',np.mean(accuracies))\n",
    "print('Test Score:',knn.score(X_test_fs,y_test))\n",
    "print('\\nClassification Report:\\n',classification_report(y_test,y_pred,target_names=y_test.columns))\n",
    "for i in range(len(y_test.columns)):\n",
    "    confusion_matrix = multilabel_confusion_matrix(y_test, y_pred)[i]\n",
    "    print('Confusion Matrix for',y_test.columns[i],':\\n',confusion_matrix)\n",
    "\n",
    "#Store results in the dictionaries\n",
    "result_dict_train['KN'] = np.mean(accuracies)\n",
    "result_dict_test['KN'] = knn.score(X_test_fs,y_test)\n",
    "result_dict_f1['KN'] = f1_score(y_test,y_pred,average='weighted')"
   ]
  },
  {
   "cell_type": "code",
   "execution_count": 8,
   "id": "488ad531-8e4c-49f5-a415-ca972572b9af",
   "metadata": {},
   "outputs": [
    {
     "name": "stdout",
     "output_type": "stream",
     "text": [
      "Train Score: 0.8746637597104332\n",
      "Test Score: 0.8729838709677419\n",
      "\n",
      "Classification Report:\n",
      "                     precision    recall  f1-score   support\n",
      "\n",
      "     alcohol_abuse       0.17      0.16      0.16        70\n",
      "     cocaine_abuse       0.15      0.17      0.16        40\n",
      "hallucinogen_abuse       0.00      0.00      0.00         0\n",
      "    inhalant_abuse       0.00      0.00      0.00         0\n",
      "      opioid_abuse       0.07      0.06      0.06        16\n",
      "    sedative_abuse       0.00      0.00      0.00         2\n",
      "\n",
      "         micro avg       0.15      0.15      0.15       128\n",
      "         macro avg       0.07      0.07      0.07       128\n",
      "      weighted avg       0.15      0.15      0.15       128\n",
      "       samples avg       0.01      0.01      0.01       128\n",
      "\n",
      "Confusion Matrix for alcohol_abuse :\n",
      " [[1365   53]\n",
      " [  59   11]]\n",
      "Confusion Matrix for cocaine_abuse :\n",
      " [[1409   39]\n",
      " [  33    7]]\n",
      "Confusion Matrix for hallucinogen_abuse :\n",
      " [[1488    0]\n",
      " [   0    0]]\n",
      "Confusion Matrix for inhalant_abuse :\n",
      " [[1488    0]\n",
      " [   0    0]]\n",
      "Confusion Matrix for opioid_abuse :\n",
      " [[1458   14]\n",
      " [  15    1]]\n",
      "Confusion Matrix for sedative_abuse :\n",
      " [[1481    5]\n",
      " [   2    0]]\n"
     ]
    }
   ],
   "source": [
    "# Decision Tree Classifier\n",
    "dtc = DecisionTreeClassifier(random_state = 42)\n",
    "accuracies = cross_val_score(dtc, X_train_fs, y_train, cv=5)\n",
    "dtc.fit(X_train_fs,y_train)\n",
    "y_pred = dtc.predict(X_test_fs)\n",
    "\n",
    "#Evaluate model performance\n",
    "print('Train Score:',np.mean(accuracies))\n",
    "print('Test Score:',dtc.score(X_test_fs,y_test))\n",
    "print('\\nClassification Report:\\n',classification_report(y_test, y_pred,target_names=y_test.columns))\n",
    "for i in range(len(y_test.columns)):\n",
    "    confusion_matrix = multilabel_confusion_matrix(y_test, y_pred)[i]\n",
    "    print('Confusion Matrix for',y_test.columns[i],':\\n',confusion_matrix)\n",
    "\n",
    "#Store results in the dictionaries\n",
    "result_dict_train['DT'] = np.mean(accuracies)\n",
    "result_dict_test['DT'] = dtc.score(X_test_fs,y_test)\n",
    "result_dict_f1['DT'] = f1_score(y_test,y_pred,average='weighted')"
   ]
  },
  {
   "cell_type": "code",
   "execution_count": 9,
   "id": "7532ffe2-ecd6-4b09-8548-f1c012cb90f6",
   "metadata": {},
   "outputs": [
    {
     "name": "stdout",
     "output_type": "stream",
     "text": [
      "Train Score: 0.9223779184217769\n",
      "Test Score: 0.9153225806451613\n",
      "\n",
      "Classification Report:\n",
      "                     precision    recall  f1-score   support\n",
      "\n",
      "     alcohol_abuse       0.25      0.06      0.09        70\n",
      "     cocaine_abuse       0.31      0.10      0.15        40\n",
      "hallucinogen_abuse       0.00      0.00      0.00         0\n",
      "    inhalant_abuse       0.00      0.00      0.00         0\n",
      "      opioid_abuse       0.00      0.00      0.00        16\n",
      "    sedative_abuse       0.00      0.00      0.00         2\n",
      "\n",
      "         micro avg       0.26      0.06      0.10       128\n",
      "         macro avg       0.09      0.03      0.04       128\n",
      "      weighted avg       0.23      0.06      0.10       128\n",
      "       samples avg       0.00      0.00      0.00       128\n",
      "\n",
      "Confusion Matrix for alcohol_abuse :\n",
      " [[1406   12]\n",
      " [  66    4]]\n",
      "Confusion Matrix for cocaine_abuse :\n",
      " [[1439    9]\n",
      " [  36    4]]\n",
      "Confusion Matrix for hallucinogen_abuse :\n",
      " [[1488    0]\n",
      " [   0    0]]\n",
      "Confusion Matrix for inhalant_abuse :\n",
      " [[1488    0]\n",
      " [   0    0]]\n",
      "Confusion Matrix for opioid_abuse :\n",
      " [[1471    1]\n",
      " [  16    0]]\n",
      "Confusion Matrix for sedative_abuse :\n",
      " [[1485    1]\n",
      " [   2    0]]\n"
     ]
    }
   ],
   "source": [
    "# Random Forest Classifier\n",
    "rfc = RandomForestClassifier(random_state = 42)\n",
    "accuracies = cross_val_score(rfc, X_train_fs, y_train, cv=5)\n",
    "rfc.fit(X_train_fs,y_train)\n",
    "y_pred = rfc.predict(X_test_fs)\n",
    " \n",
    "#Evaluate model performance\n",
    "print('Train Score:',np.mean(accuracies))\n",
    "print('Test Score:',rfc.score(X_test_fs,y_test))\n",
    "print('\\nClassification Report:\\n',classification_report(y_test, y_pred,target_names=y_test.columns))\n",
    "for i in range(len(y_test.columns)):\n",
    "    confusion_matrix = multilabel_confusion_matrix(y_test, y_pred)[i]\n",
    "    print('Confusion Matrix for',y_test.columns[i],':\\n',confusion_matrix)\n",
    "\n",
    "#Store results in the dictionaries\n",
    "result_dict_train['RF'] = np.mean(accuracies)\n",
    "result_dict_test['RF'] = rfc.score(X_test_fs,y_test)\n",
    "result_dict_f1['RF'] = f1_score(y_test,y_pred,average='weighted')"
   ]
  },
  {
   "cell_type": "code",
   "execution_count": 10,
   "id": "9e112229-ecfe-4f31-86e5-add52c754498",
   "metadata": {},
   "outputs": [
    {
     "data": {
      "image/png": "[encoded data removed]",
      "text/plain": [
       "<Figure size 1080x144 with 3 Axes>"
      ]
     },
     "metadata": {
      "needs_background": "light"
     },
     "output_type": "display_data"
    }
   ],
   "source": [
    "## COMPARING ACCURACY SCORES\n",
    "df_result_train = pd.DataFrame.from_dict(result_dict_train,orient = \"index\",columns=[\"Train Score\"])\n",
    "df_result_test = pd.DataFrame.from_dict(result_dict_test,orient = \"index\",columns=[\"Test Score\"])\n",
    "df_result_f1 = pd.DataFrame.from_dict(result_dict_f1,orient = \"index\",columns=[\"F1-score\"])\n",
    "df_results = pd.concat([df_result_train,df_result_test,df_result_f1],axis=1)\n",
    "\n",
    "# visualizing the scores \n",
    "fig,ax = plt.subplots(1,3,figsize=(15,2),sharex=True)\n",
    "fig.subplots_adjust(wspace=0.05)\n",
    "g1=sns.barplot(y = df_result_train.index,x = df_result_train['Train Score'].round(3),ax = ax[0],palette='mako')\n",
    "g2=sns.barplot(y = df_result_test.index,x = df_result_test['Test Score'].round(3),ax = ax[1],palette='mako')\n",
    "g3=sns.barplot(y = df_result_f1.index,x = df_result_f1['F1-score'].round(3),ax=ax[2],palette='mako')\n",
    "g1.set(xlabel='Training Accuracy')\n",
    "g1.bar_label(g1.containers[0],label_type='center',color='white')\n",
    "g2.set(xlabel='Testing Accuracy')\n",
    "g2.bar_label(g2.containers[0],label_type='center',color='white')\n",
    "g2.set(yticklabels=[])\n",
    "g2.tick_params(left=False)\n",
    "g3.set(xlabel='F1-score')\n",
    "g3.bar_label(g3.containers[0],label_type='edge',color='black')\n",
    "g3.set(yticklabels=[])\n",
    "g3.tick_params(left=False)\n",
    "g3.set_xlim(0)\n",
    "plt.suptitle('ML Algorithm Accuracy & F1 Scores',fontsize=12,x=0.515,y=1.05)\n",
    "plt.show()"
   ]
  },
  {
   "cell_type": "markdown",
   "id": "fa5eb919-3851-4bc6-a57f-66f52b11f304",
   "metadata": {},
   "source": [
    "Second Analysis: Combined SUDs"
   ]
  },
  {
   "cell_type": "code",
   "execution_count": 11,
   "id": "9eafd048-9e87-4b18-9a01-78ab800fd22f",
   "metadata": {},
   "outputs": [],
   "source": [
    "# Import the dataframe\n",
    "df1 = pd.read_csv('df.csv')\n",
    "df1.set_index('person_id',inplace=True)"
   ]
  },
  {
   "cell_type": "code",
   "execution_count": 12,
   "id": "d3a69ef8-ad2d-4b1d-8995-14e1cee6e265",
   "metadata": {
    "tags": []
   },
   "outputs": [
    {
     "name": "stdout",
     "output_type": "stream",
     "text": [
      "<class 'pandas.core.frame.DataFrame'>\n",
      "Int64Index: 7440 entries, 1 to 7428\n",
      "Data columns (total 50 columns):\n",
      " #   Column                                                                          Non-Null Count  Dtype  \n",
      "---  ------                                                                          --------------  -----  \n",
      " 0   gender                                                                          7440 non-null   int64  \n",
      " 1   race                                                                            7440 non-null   int64  \n",
      " 2   ethnicity                                                                       7440 non-null   int64  \n",
      " 3   age                                                                             7440 non-null   float64\n",
      " 4   ingredient                                                                      7440 non-null   int64  \n",
      " 5   Bipolar disorder, depressed                                                     7440 non-null   int64  \n",
      " 6   Bipolar disorder, manic                                                         7440 non-null   int64  \n",
      " 7   Bipolar disorder, mixed                                                         7440 non-null   int64  \n",
      " 8   Bipolar disorder, unspecified                                                   7440 non-null   int64  \n",
      " 9   Bipolar I disorder, unspecified                                                 7440 non-null   int64  \n",
      " 10  Bipolar I disorder, depressed                                                   7440 non-null   int64  \n",
      " 11  Bipolar I disorder, manic                                                       7440 non-null   int64  \n",
      " 12  Bipolar I disorder, mixed                                                       7440 non-null   int64  \n",
      " 13  Bipolar II disorder, unspecified                                                7440 non-null   int64  \n",
      " 14  Psychosis and severe depression co-occurrent                                    7440 non-null   int64  \n",
      " 15  Schizoaffective disorder                                                        7440 non-null   int64  \n",
      " 16  Abnormal weight gain                                                            7440 non-null   int64  \n",
      " 17  Abnormal weight loss                                                            7440 non-null   int64  \n",
      " 18  Adult physical abuse, confirmed, initial encounter                              7440 non-null   int64  \n",
      " 19  Alcohol abuse counseling and surveillance of alcoholic                          7440 non-null   int64  \n",
      " 20  Anorexia                                                                        7440 non-null   int64  \n",
      " 21  Binge eating disorder                                                           7440 non-null   int64  \n",
      " 22  Electroconvulsive therapy (ECT) provided (MDD)                                  7440 non-null   int64  \n",
      " 23  Encounter for general psychiatric examination, requested by authority           7440 non-null   int64  \n",
      " 24  Family history of alcohol abuse and dependence                                  7440 non-null   int64  \n",
      " 25  History of physical abuse                                                       7440 non-null   int64  \n",
      " 26  Loss of weight                                                                  7440 non-null   int64  \n",
      " 27  Other personal history of psychological trauma, not elsewhere classified        7440 non-null   int64  \n",
      " 28  Personal history of alcoholism                                                  7440 non-null   int64  \n",
      " 29  Personal history of nicotine dependence                                         7440 non-null   int64  \n",
      " 30  Personal history of other mental and behavioral disorders                       7440 non-null   int64  \n",
      " 31  Personal history of tobacco use                                                 7440 non-null   int64  \n",
      " 32  Suicide attempt, initial encounter                                              7440 non-null   int64  \n",
      " 33  Very low level of personal hygiene                                              7440 non-null   int64  \n",
      " 34  underweight (BMI < 19.9)                                                        7440 non-null   int64  \n",
      " 35  healthy weight (20.0 < BMI < 24.9)                                              7440 non-null   int64  \n",
      " 36  overweight (25.0 < BMI < 29.9)                                                  7440 non-null   int64  \n",
      " 37  obese (BMI > 30.0)                                                              7440 non-null   int64  \n",
      " 38  Elevated blood pressure reading                                                 7440 non-null   int64  \n",
      " 39  Encounter for screening examination for mental health and behavioral disorders  7440 non-null   int64  \n",
      " 40  Intentional self-harm                                                           7440 non-null   int64  \n",
      " 41  Annual depression screening, 15 minutes                                         7440 non-null   int64  \n",
      " 42  Detoxification Services for Substance Abuse Treatment                           7440 non-null   int64  \n",
      " 43  Electroconvulsive therapy                                                       7440 non-null   int64  \n",
      " 44  Family psychotherapy                                                            7440 non-null   int64  \n",
      " 45  Group psychotherapy                                                             7440 non-null   int64  \n",
      " 46  Individual psychotherapy                                                        7440 non-null   int64  \n",
      " 47  Group counseling for substance abuse treatment                                  7440 non-null   int64  \n",
      " 48  Health behavior intervention                                                    7440 non-null   int64  \n",
      " 49  SUD                                                                             7440 non-null   int64  \n",
      "dtypes: float64(1), int64(49)\n",
      "memory usage: 2.9 MB\n"
     ]
    }
   ],
   "source": [
    "# Edit the dataframe\n",
    "# combine the output columns into one SUD column\n",
    "df1['SUD'] = df1.iloc[:,49:].max(1)\n",
    "df1.drop(df1.iloc[:,49:55],axis=1,inplace=True)\n",
    "df1.info()"
   ]
  },
  {
   "cell_type": "code",
   "execution_count": 13,
   "id": "28adde49-8762-4e66-ab64-08afd4bf6fc4",
   "metadata": {},
   "outputs": [
    {
     "name": "stdout",
     "output_type": "stream",
     "text": [
      "X_train shape: (5952, 49)\n",
      "X_test shape: (1488, 49)\n",
      "y_train shape: (5952, 1)\n",
      "y_test shape: (1488, 1)\n"
     ]
    }
   ],
   "source": [
    "# Divide the dataset into input and output variables\n",
    "output = ['SUD']\n",
    "X = df1.drop(columns = output)\n",
    "y = df1[output]\n",
    "\n",
    "# Split the data into training and testing set (80/20)\n",
    "X_train,X_test,y_train,y_test = train_test_split(X,y,test_size = 0.2,random_state = 42,shuffle=True)\n",
    "\n",
    "print('X_train shape:',X_train.shape)\n",
    "print('X_test shape:',X_test.shape)\n",
    "print('y_train shape:',y_train.shape)\n",
    "print('y_test shape:',y_test.shape)"
   ]
  },
  {
   "cell_type": "code",
   "execution_count": 14,
   "id": "4cccf958-0037-4a10-b86a-b1a0d7663712",
   "metadata": {},
   "outputs": [
    {
     "name": "stdout",
     "output_type": "stream",
     "text": [
      "Feature 0: 30.351008 \t gender\n",
      "Feature 1: 2.238782 \t race\n",
      "Feature 2: 0.003681 \t ethnicity\n",
      "Feature 3: 0.059875 \t age\n",
      "Feature 4: 284.916590 \t ingredient\n",
      "Feature 5: 19.558884 \t Bipolar disorder, depressed\n",
      "Feature 6: 0.019867 \t Bipolar disorder, manic\n",
      "Feature 7: 3.443353 \t Bipolar disorder, mixed\n",
      "Feature 8: 3.398932 \t Bipolar disorder, unspecified\n",
      "Feature 9: 6.920138 \t Bipolar I disorder, unspecified\n",
      "Feature 10: 0.084178 \t Bipolar I disorder, depressed\n",
      "Feature 11: 0.014668 \t Bipolar I disorder, manic\n",
      "Feature 12: 3.655281 \t Bipolar I disorder, mixed\n",
      "Feature 13: 0.099521 \t Bipolar II disorder, unspecified\n",
      "Feature 14: 0.403422 \t Psychosis and severe depression co-occurrent\n",
      "Feature 15: 30.227707 \t Schizoaffective disorder\n",
      "Feature 16: 1.789923 \t Abnormal weight gain\n",
      "Feature 17: 1.030474 \t Abnormal weight loss\n",
      "Feature 18: 0.153011 \t Adult physical abuse, confirmed, initial encounter\n",
      "Feature 19: 16.120065 \t Alcohol abuse counseling and surveillance of alcoholic\n",
      "Feature 20: 0.153011 \t Anorexia\n",
      "Feature 21: 0.647074 \t Binge eating disorder\n",
      "Feature 22: 0.841563 \t Electroconvulsive therapy (ECT) provided (MDD)\n",
      "Feature 23: 23.278420 \t Encounter for general psychiatric examination, requested by authority\n",
      "Feature 24: 0.076506 \t Family history of alcohol abuse and dependence\n",
      "Feature 25: 0.076506 \t History of physical abuse\n",
      "Feature 26: 2.518005 \t Loss of weight\n",
      "Feature 27: nan \t Other personal history of psychological trauma, not elsewhere classified\n",
      "Feature 28: 16.120065 \t Personal history of alcoholism\n",
      "Feature 29: 3.390706 \t Personal history of nicotine dependence\n",
      "Feature 30: 2.692141 \t Personal history of other mental and behavioral disorders\n",
      "Feature 31: 3.879737 \t Personal history of tobacco use\n",
      "Feature 32: 54.034350 \t Suicide attempt, initial encounter\n",
      "Feature 33: 11.147428 \t Very low level of personal hygiene\n",
      "Feature 34: 1.071080 \t underweight (BMI < 19.9)\n",
      "Feature 35: 0.612046 \t healthy weight (20.0 < BMI < 24.9)\n",
      "Feature 36: 1.021956 \t overweight (25.0 < BMI < 29.9)\n",
      "Feature 37: 18.523341 \t obese (BMI > 30.0)\n",
      "Feature 38: 0.199565 \t Elevated blood pressure reading\n",
      "Feature 39: 5.573714 \t Encounter for screening examination for mental health and behavioral disorders\n",
      "Feature 40: 8.194448 \t Intentional self-harm\n",
      "Feature 41: 0.218633 \t Annual depression screening, 15 minutes\n",
      "Feature 42: 456.430983 \t Detoxification Services for Substance Abuse Treatment\n",
      "Feature 43: 0.426411 \t Electroconvulsive therapy\n",
      "Feature 44: 0.530128 \t Family psychotherapy\n",
      "Feature 45: 70.307412 \t Group psychotherapy\n",
      "Feature 46: 25.763484 \t Individual psychotherapy\n",
      "Feature 47: 106.184745 \t Group counseling for substance abuse treatment\n",
      "Feature 48: 0.076506 \t Health behavior intervention\n"
     ]
    },
    {
     "data": {
      "image/png": "[encoded data removed]",
      "text/plain": [
       "<Figure size 864x504 with 1 Axes>"
      ]
     },
     "metadata": {
      "needs_background": "light"
     },
     "output_type": "display_data"
    }
   ],
   "source": [
    "# Chi-squared Feature Selection\n",
    "def select_features(X_train, y_train, X_test):\n",
    "    fs = SelectKBest(score_func=chi2, k='all')\n",
    "    fs.fit(X_train, y_train)\n",
    "    X_train_fs = fs.transform(X_train)\n",
    "    X_test_fs = fs.transform(X_test)\n",
    "    return X_train_fs, X_test_fs, fs\n",
    "\n",
    "X_train_fs, X_test_fs, fs = select_features(X_train,y_train, X_test)\n",
    "columns = X.columns.values.tolist()\n",
    "for i in range(len(fs.scores_)):\n",
    "    print('Feature %d: %f' %(i, fs.scores_[i]),'\\t',columns[i])\n",
    "\n",
    "fig,ax = plt.subplots(figsize=(12,7))\n",
    "sns.barplot(x=[i for i in range(len(fs.scores_))],y=fs.scores_,palette='mako')\n",
    "plt.show()"
   ]
  },
  {
   "cell_type": "code",
   "execution_count": 15,
   "id": "191a0629-bdc2-4a23-a672-2d45895babec",
   "metadata": {},
   "outputs": [],
   "source": [
    "# Create dictionaries to store the results of the models\n",
    "result_dict_train = {}\n",
    "result_dict_test = {}\n",
    "result_dict_f1 = {}"
   ]
  },
  {
   "cell_type": "code",
   "execution_count": 16,
   "id": "c597715d-fe5c-40c7-8880-80c3ae0df995",
   "metadata": {},
   "outputs": [
    {
     "name": "stdout",
     "output_type": "stream",
     "text": [
      "Train Score: 0.932794981972638\n",
      "Test Score: 0.926747311827957\n",
      "\n",
      "Classification Report:\n",
      "               precision    recall  f1-score   support\n",
      "\n",
      "           0       0.93      0.99      0.96      1373\n",
      "           1       0.64      0.12      0.20       115\n",
      "\n",
      "    accuracy                           0.93      1488\n",
      "   macro avg       0.78      0.56      0.58      1488\n",
      "weighted avg       0.91      0.93      0.90      1488\n",
      "\n",
      "Confusion Matrix:\n",
      " [[1365    8]\n",
      " [ 101   14]]\n"
     ]
    }
   ],
   "source": [
    "## Logistic Regression\n",
    "reg = LogisticRegression(random_state = 42)\n",
    "accuracies = cross_val_score(reg, X_train_fs, y_train, cv=5)\n",
    "reg.fit(X_train_fs,y_train)\n",
    "y_pred = reg.predict(X_test_fs)\n",
    "\n",
    "from sklearn.metrics import  confusion_matrix\n",
    " \n",
    "#Evaluate model performance\n",
    "print(\"Train Score:\",np.mean(accuracies))\n",
    "print(\"Test Score:\",reg.score(X_test_fs,y_test))\n",
    "print('\\nClassification Report:\\n',classification_report(y_test, y_pred))\n",
    "print('Confusion Matrix:\\n',confusion_matrix(y_test, y_pred))\n",
    "\n",
    "#Store results in the dictionaries\n",
    "result_dict_train['LR'] = np.mean(accuracies)\n",
    "result_dict_test['LR'] = reg.score(X_test_fs,y_test)\n",
    "result_dict_f1['LR'] = f1_score(y_test,y_pred,average='weighted')"
   ]
  },
  {
   "cell_type": "code",
   "execution_count": 17,
   "id": "5eb3db66-eeec-4c10-b2f5-945b1b5fcecc",
   "metadata": {},
   "outputs": [
    {
     "name": "stdout",
     "output_type": "stream",
     "text": [
      "Train Score: 0.9289315524698545\n",
      "Test Score: 0.9227150537634409\n",
      "\n",
      "Classification Report:\n",
      "               precision    recall  f1-score   support\n",
      "\n",
      "           0       0.92      1.00      0.96      1373\n",
      "           1       0.00      0.00      0.00       115\n",
      "\n",
      "    accuracy                           0.92      1488\n",
      "   macro avg       0.46      0.50      0.48      1488\n",
      "weighted avg       0.85      0.92      0.89      1488\n",
      "\n",
      "Confusion Matrix:\n",
      " [[1373    0]\n",
      " [ 115    0]]\n"
     ]
    }
   ],
   "source": [
    "## Support Vector Classifier\n",
    "svc = SVC(random_state = 42)\n",
    "accuracies = cross_val_score(svc, X_train_fs, y_train, cv=5)\n",
    "svc.fit(X_train_fs,y_train)\n",
    "y_pred = svc.predict(X_test_fs)\n",
    " \n",
    "#Evaluate model performance\n",
    "print(\"Train Score:\",np.mean(accuracies))\n",
    "print(\"Test Score:\",svc.score(X_test_fs,y_test))\n",
    "print('\\nClassification Report:\\n',classification_report(y_test, y_pred))\n",
    "print('Confusion Matrix:\\n',confusion_matrix(y_test, y_pred))\n",
    "\n",
    "#Store results in the dictionaries\n",
    "result_dict_train['SVM'] = np.mean(accuracies)\n",
    "result_dict_test['SVM'] = svc.score(X_test_fs,y_test)\n",
    "result_dict_f1['SVM'] = f1_score(y_test,y_pred,average='weighted')"
   ]
  },
  {
   "cell_type": "code",
   "execution_count": 18,
   "id": "39a7da3d-ac57-4744-ab72-03e290d49a86",
   "metadata": {},
   "outputs": [
    {
     "name": "stdout",
     "output_type": "stream",
     "text": [
      "Train Score: 0.10097284253751877\n",
      "Test Score: 0.11290322580645161\n",
      "\n",
      "Classification Report:\n",
      "               precision    recall  f1-score   support\n",
      "\n",
      "           0       0.95      0.04      0.08      1373\n",
      "           1       0.08      0.97      0.15       115\n",
      "\n",
      "    accuracy                           0.11      1488\n",
      "   macro avg       0.51      0.51      0.11      1488\n",
      "weighted avg       0.88      0.11      0.08      1488\n",
      "\n",
      "Confusion Matrix:\n",
      " [[  56 1317]\n",
      " [   3  112]]\n"
     ]
    }
   ],
   "source": [
    "## Naive Bayes Classifier\n",
    "gnb = GaussianNB()\n",
    "accuracies = cross_val_score(gnb, X_train_fs, y_train, cv=5)\n",
    "gnb.fit(X_train_fs,y_train)\n",
    "y_pred = gnb.predict(X_test_fs)\n",
    " \n",
    "#Evaluate model performance\n",
    "print(\"Train Score:\",np.mean(accuracies))\n",
    "print(\"Test Score:\",gnb.score(X_test_fs,y_test))\n",
    "print('\\nClassification Report:\\n',classification_report(y_test, y_pred))\n",
    "print('Confusion Matrix:\\n',confusion_matrix(y_test, y_pred))\n",
    "\n",
    "#Store results in the dictionaries\n",
    "result_dict_train['NB'] = np.mean(accuracies)\n",
    "result_dict_test['NB'] = gnb.score(X_test_fs,y_test)\n",
    "result_dict_f1['NB'] = f1_score(y_test,y_pred,average='weighted')"
   ]
  },
  {
   "cell_type": "code",
   "execution_count": 19,
   "id": "56cc325e-8364-4678-86a3-18f0561f6ca6",
   "metadata": {},
   "outputs": [
    {
     "name": "stdout",
     "output_type": "stream",
     "text": [
      "Train Score: 0.9269151690903061\n",
      "Test Score: 0.9220430107526881\n",
      "\n",
      "Classification Report:\n",
      "               precision    recall  f1-score   support\n",
      "\n",
      "           0       0.92      1.00      0.96      1373\n",
      "           1       0.33      0.01      0.02       115\n",
      "\n",
      "    accuracy                           0.92      1488\n",
      "   macro avg       0.63      0.50      0.49      1488\n",
      "weighted avg       0.88      0.92      0.89      1488\n",
      "\n",
      "Confusion Matrix:\n",
      " [[1371    2]\n",
      " [ 114    1]]\n"
     ]
    }
   ],
   "source": [
    "# K-Neighbor Classifier Algorithm\n",
    "knn = KNeighborsClassifier()\n",
    "accuracies = cross_val_score(knn, X_train_fs, y_train, cv=5)\n",
    "knn.fit(X_train_fs, y_train)\n",
    "y_pred = knn.predict(X_test_fs)\n",
    "\n",
    "#Evaluate model performance\n",
    "print('Train Score:',np.mean(accuracies))\n",
    "print('Test Score:',knn.score(X_test_fs,y_test))\n",
    "print('\\nClassification Report:\\n',classification_report(y_test, y_pred))\n",
    "print('Confusion Matrix:\\n',confusion_matrix(y_test, y_pred))\n",
    "\n",
    "#Store results in the dictionaries\n",
    "result_dict_train['KN'] = np.mean(accuracies)\n",
    "result_dict_test['KN'] = knn.score(X_test_fs,y_test)\n",
    "result_dict_f1['KN'] = f1_score(y_test,y_pred,average='weighted')"
   ]
  },
  {
   "cell_type": "code",
   "execution_count": 20,
   "id": "6ee8ea7a-3277-49c2-bd05-3d39caa047f9",
   "metadata": {},
   "outputs": [
    {
     "name": "stdout",
     "output_type": "stream",
     "text": [
      "Train Score: 0.884406719866788\n",
      "Test Score: 0.8897849462365591\n",
      "\n",
      "Classification Report:\n",
      "               precision    recall  f1-score   support\n",
      "\n",
      "           0       0.93      0.95      0.94      1373\n",
      "           1       0.23      0.18      0.20       115\n",
      "\n",
      "    accuracy                           0.89      1488\n",
      "   macro avg       0.58      0.57      0.57      1488\n",
      "weighted avg       0.88      0.89      0.88      1488\n",
      "\n",
      "Confusion Matrix:\n",
      " [[1303   70]\n",
      " [  94   21]]\n"
     ]
    }
   ],
   "source": [
    "# Decision Tree Classifier\n",
    "dtc = DecisionTreeClassifier(random_state = 42)\n",
    "accuracies = cross_val_score(dtc, X_train_fs, y_train, cv=5)\n",
    "dtc.fit(X_train_fs,y_train)\n",
    "y_pred = dtc.predict(X_test_fs)\n",
    "\n",
    "#Evaluate model performance\n",
    "print('Train Score:',np.mean(accuracies))\n",
    "print('Test Score:',dtc.score(X_test_fs,y_test))\n",
    "print('\\nClassification Report:\\n',classification_report(y_test, y_pred))\n",
    "print('Confusion Matrix:\\n',confusion_matrix(y_test, y_pred))\n",
    "\n",
    "#Store results in the dictionaries\n",
    "result_dict_train['DT'] = np.mean(accuracies)\n",
    "result_dict_test['DT'] = dtc.score(X_test_fs,y_test)\n",
    "result_dict_f1['DT'] = f1_score(y_test,y_pred,average='weighted')"
   ]
  },
  {
   "cell_type": "code",
   "execution_count": 21,
   "id": "afe7e62d-5f27-4e17-9728-ebd15ac1f9d3",
   "metadata": {},
   "outputs": [
    {
     "name": "stdout",
     "output_type": "stream",
     "text": [
      "Train Score: 0.9264092740370709\n",
      "Test Score: 0.9166666666666666\n",
      "\n",
      "Classification Report:\n",
      "               precision    recall  f1-score   support\n",
      "\n",
      "           0       0.93      0.98      0.96      1373\n",
      "           1       0.40      0.16      0.23       115\n",
      "\n",
      "    accuracy                           0.92      1488\n",
      "   macro avg       0.67      0.57      0.59      1488\n",
      "weighted avg       0.89      0.92      0.90      1488\n",
      "\n",
      "Confusion Matrix:\n",
      " [[1346   27]\n",
      " [  97   18]]\n"
     ]
    }
   ],
   "source": [
    "# Random Forest Classifier\n",
    "rfc = RandomForestClassifier(random_state = 42)\n",
    "accuracies = cross_val_score(rfc, X_train_fs, y_train, cv=5)\n",
    "rfc.fit(X_train_fs,y_train)\n",
    "y_pred = rfc.predict(X_test_fs)\n",
    " \n",
    "#Evaluate model performance\n",
    "print('Train Score:',np.mean(accuracies))\n",
    "print('Test Score:',rfc.score(X_test_fs,y_test))\n",
    "print('\\nClassification Report:\\n',classification_report(y_test, y_pred))\n",
    "print('Confusion Matrix:\\n',confusion_matrix(y_test, y_pred))\n",
    "\n",
    "#Store results in the dictionaries\n",
    "result_dict_train['RF'] = np.mean(accuracies)\n",
    "result_dict_test['RF'] = rfc.score(X_test_fs,y_test)\n",
    "result_dict_f1['RF'] = f1_score(y_test,y_pred,average='weighted')"
   ]
  },
  {
   "cell_type": "code",
   "execution_count": 22,
   "id": "b6f84d68-07bd-46a1-9078-257160f7d56f",
   "metadata": {},
   "outputs": [
    {
     "data": {
      "image/png": "[encoded data removed]",
      "text/plain": [
       "<Figure size 1440x144 with 3 Axes>"
      ]
     },
     "metadata": {
      "needs_background": "light"
     },
     "output_type": "display_data"
    }
   ],
   "source": [
    "## COMPARING ACCURACY SCORES\n",
    "df_result_train = pd.DataFrame.from_dict(result_dict_train,orient = \"index\", columns=[\"Train Score\"])\n",
    "df_result_test = pd.DataFrame.from_dict(result_dict_test,orient = \"index\",columns=[\"Test Score\"])\n",
    "df_result_f1 = pd.DataFrame.from_dict(result_dict_f1,orient = \"index\",columns=[\"F1-score\"])\n",
    "df_results = pd.concat([df_result_train,df_result_test,df_result_f1],axis=1)\n",
    "\n",
    "# visualizing the scores \n",
    "fig,ax = plt.subplots(1,3,figsize=(20,2),sharex=True)\n",
    "fig.subplots_adjust(wspace=0.05)\n",
    "g1=sns.barplot(y = df_result_train.index,x = df_result_train['Train Score'].round(3),ax = ax[0],palette='mako')\n",
    "g2=sns.barplot(y = df_result_test.index,x = df_result_test['Test Score'].round(3),ax = ax[1],palette='mako')\n",
    "g3=sns.barplot(y = df_result_f1.index,x = df_result_f1['F1-score'].round(3),ax=ax[2],palette='mako')\n",
    "g1.set(xlabel='Training Accuracy')\n",
    "g1.bar_label(g1.containers[0],label_type='center',color='white')\n",
    "g2.set(xlabel='Testing Accuracy')\n",
    "g2.bar_label(g2.containers[0],label_type='center',color='white')\n",
    "g2.set(yticklabels=[])\n",
    "g2.tick_params(left=False)\n",
    "g3.set(xlabel='F1-score')\n",
    "g3.bar_label(g3.containers[0],label_type='center',color='white')\n",
    "g3.set(yticklabels=[])\n",
    "g3.tick_params(left=False)\n",
    "g3.set_xlim(0)\n",
    "plt.suptitle('ML Algorithm Accuracy & F1 Scores',fontsize=12,x=0.515,y=1.05)\n",
    "plt.show()"
   ]
  }
 ],
 "metadata": {
  "kernelspec": {
   "display_name": "Python 3 (ipykernel)",
   "language": "python",
   "name": "python3"
  },
  "language_info": {
   "codemirror_mode": {
    "name": "ipython",
    "version": 3
   },
   "file_extension": ".py",
   "mimetype": "text/x-python",
   "name": "python",
   "nbconvert_exporter": "python",
   "pygments_lexer": "ipython3",
   "version": "3.10.4"
  }
 },
 "nbformat": 4,
 "nbformat_minor": 5
}
